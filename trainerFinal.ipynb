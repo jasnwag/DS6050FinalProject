{
 "cells": [
  {
   "cell_type": "code",
   "execution_count": 1,
   "id": "2758077b-5196-489e-ab86-01b86db5d94d",
   "metadata": {},
   "outputs": [],
   "source": [
    "# Jason Wang\n",
    "# December 10th, 2021"
   ]
  },
  {
   "cell_type": "markdown",
   "id": "887cacc7-7e13-4a7a-b531-52bf52fe9638",
   "metadata": {
    "tags": []
   },
   "source": [
    "### Imports and Declarations"
   ]
  },
  {
   "cell_type": "code",
   "execution_count": 1,
   "id": "9a37cad9-f3fb-4054-a369-78b62fe8ee8e",
   "metadata": {},
   "outputs": [],
   "source": [
    "import cv2\n",
    "import mediapipe as mp\n",
    "import os\n",
    "from scipy.stats import norm\n",
    "from scipy.signal import savgol_filter\n",
    "import math\n",
    "import numpy as np\n",
    "import urllib\n",
    "import time\n",
    "import threading\n",
    "import matplotlib.pyplot as plt \n",
    "from scipy.interpolate import barycentric_interpolate\n",
    "from scipy import interpolate\n",
    "mp_drawing = mp.solutions.drawing_utils\n",
    "mp_drawing_styles = mp.solutions.drawing_styles\n",
    "mp_pose = mp.solutions.pose"
   ]
  },
  {
   "cell_type": "markdown",
   "id": "353b30db-4271-4054-bb8c-beb7fbb0a20a",
   "metadata": {},
   "source": [
    "### Functions"
   ]
  },
  {
   "cell_type": "code",
   "execution_count": 2,
   "id": "42166030-bd2e-46e1-8561-33d28d7cfe6a",
   "metadata": {},
   "outputs": [],
   "source": [
    "def getAngle3D(results, a, b, c):\n",
    "    \"\"\"\n",
    "    Calculates the angle between three points baed on the number given in the figure\n",
    "    \n",
    "    Parameters:\n",
    "    results : Processed Mediapipe\n",
    "    a (int): Number given to the first joint \n",
    "    b (int): Number given to the second or main joint \n",
    "    c (int): Number given to the third joint\n",
    "    \n",
    "    Returns:\n",
    "    output: The angle rounded to two decimal points\n",
    "    \"\"\"\n",
    "    \n",
    "    v1 = [results.pose_landmarks.landmark[a].x - results.pose_landmarks.landmark[b].x,\n",
    "          results.pose_landmarks.landmark[a].y - results.pose_landmarks.landmark[b].y,\n",
    "          results.pose_landmarks.landmark[a].z - results.pose_landmarks.landmark[b].z]\n",
    "    v2 = [results.pose_landmarks.landmark[c].x - results.pose_landmarks.landmark[b].x,\n",
    "          results.pose_landmarks.landmark[c].y - results.pose_landmarks.landmark[b].y,\n",
    "          results.pose_landmarks.landmark[c].z - results.pose_landmarks.landmark[b].z]\n",
    "    v1mag = np.sqrt(np.square(v1[0]) + np.square(v1[1]) + np.square(v1[2]))\n",
    "    v2mag = np.sqrt(np.square(v2[0]) + np.square(v2[1]) + np.square(v2[2]))\n",
    "    v1norm = [x / v1mag for x in v1]\n",
    "    v2norm = [x / v2mag for x in v2]\n",
    "    res = v1norm[0]*v2norm[0] + v1norm[1]*v2norm[1] + v1norm[2]*v2norm[2]\n",
    "    output = np.arccos(res)\n",
    "    angle = round(math.degrees(output),2)\n",
    "    return angle "
   ]
  },
  {
   "cell_type": "code",
   "execution_count": 3,
   "id": "fbbffa07-9cf8-47b0-9d0c-a547d1fc0cf1",
   "metadata": {},
   "outputs": [],
   "source": [
    "def getAngle(results, a, b, c):\n",
    "    \"\"\"\n",
    "    Calculates the angle between three points baed on the number given in the figure using just \n",
    "    the x and y coordinates\n",
    "    \n",
    "    \n",
    "    Parameters:\n",
    "    results : Processed Mediapipe\n",
    "    a (int): Number given to the first joint \n",
    "    b (int): Number given to the second or main joint \n",
    "    c (int): Number given to the third joint\n",
    "    \n",
    "    Returns:\n",
    "    output: The angle rounded to two decimal points\n",
    "    \"\"\"\n",
    "    v1 = [results.pose_landmarks.landmark[b].x - results.pose_landmarks.landmark[a].x,\n",
    "          results.pose_landmarks.landmark[b].y - results.pose_landmarks.landmark[a].y]\n",
    "    v2 = [results.pose_landmarks.landmark[b].x - results.pose_landmarks.landmark[c].x,\n",
    "          results.pose_landmarks.landmark[b].y - results.pose_landmarks.landmark[c].y]\n",
    "    dot = v1[0] * v2[0] + v1[1] * v2[1]\n",
    "    v1mag = np.sqrt(np.square(v1[0]) + np.square(v1[1]))\n",
    "    v2mag = np.sqrt(np.square(v2[0]) + np.square(v2[1]))\n",
    "    res = dot/(v1mag * v2mag)\n",
    "    output = np.arccos(res)\n",
    "    angle = round(math.degrees(output),2)\n",
    "    return angle \n",
    "    "
   ]
  },
  {
   "cell_type": "code",
   "execution_count": 4,
   "id": "fb56ea4e-0e0c-414c-834f-652520489e07",
   "metadata": {},
   "outputs": [],
   "source": [
    "def getCoordinate(results, b):\n",
    "    \"\"\"\n",
    "    Returns the coordinate of the second or main joint\n",
    "    \n",
    "    Parameters:\n",
    "    results : Processed Mediapipe\n",
    "    b (int): Number given to the second or main joint \n",
    "    \n",
    "    Returns:\n",
    "    coordinate: The x, y coordinate of the second or main joint\n",
    "    \"\"\"\n",
    "    coordinate = [results.pose_landmarks.landmark[b].x, results.pose_landmarks.landmark[b].y]\n",
    "    return coordinate"
   ]
  },
  {
   "cell_type": "code",
   "execution_count": 5,
   "id": "9d61e5be-7481-424d-948c-0690f75456d9",
   "metadata": {},
   "outputs": [],
   "source": [
    "def getVisibility(results, a, b, c):\n",
    "    \"\"\"\n",
    "    Calculates the visibility between three points baed on the number given in the figure by averaging the all the visibility values\n",
    "    \n",
    "    Parameters:\n",
    "    results : Processed Mediapipe\n",
    "    a (int): Number given to the first joint \n",
    "    b (int): Number given to the second or main joint \n",
    "    c (int): Number given to the third joint\n",
    "    \n",
    "    Returns:\n",
    "    visibility: The average visibility of all the joints\n",
    "    \"\"\"\n",
    "    output = (results.pose_landmarks.landmark[a].visibility + results.pose_landmarks.landmark[b].visibility + results.pose_landmarks.landmark[c].visibility)/3\n",
    "    visibility = round(output,2)\n",
    "    return visibility"
   ]
  },
  {
   "cell_type": "code",
   "execution_count": 6,
   "id": "c44005b4-6d3c-4118-b53f-8df4ec576b25",
   "metadata": {},
   "outputs": [],
   "source": [
    "def normalizeAngles(results):\n",
    "    \"\"\"\n",
    "    Returns the angles of the most important joints in the body during the motion.\n",
    "    \n",
    "    Parameters:\n",
    "    results : Processed Mediapipe image\n",
    "    \n",
    "    Returns:\n",
    "    output : List of angle values ordered by [right hand, left hand, right elbow, left elbow, right hip, left hip, right knee, left knee, right foot, left foot]\n",
    "    \n",
    "    \"\"\"\n",
    "    rightHand = getAngle(results, 20, 16, 14)\n",
    "    leftHand = getAngle(results, 19, 15, 13)\n",
    "    rightElbow = getAngle(results, 16, 14, 12)\n",
    "    leftElbow = getAngle(results, 15, 13, 11)\n",
    "    rightHip = getAngle(results, 26, 24, 12)\n",
    "    leftHip = getAngle(results, 25, 23, 11)\n",
    "    rightKnee = getAngle(results, 28, 26 ,24)\n",
    "    leftKnee = getAngle(results, 27, 25, 23)\n",
    "    rightFoot = getAngle(results, 32, 28, 26)\n",
    "    leftFoot = getAngle(results, 31, 27, 25)\n",
    "    output = [rightHand, leftHand, rightElbow, leftElbow, rightHip, leftHip, rightKnee, leftKnee, rightFoot, leftFoot]\n",
    "    return output"
   ]
  },
  {
   "cell_type": "code",
   "execution_count": 7,
   "id": "5d8cc235-8527-4157-90d8-2d60817a801f",
   "metadata": {},
   "outputs": [],
   "source": [
    "def initiateList():\n",
    "    output = [[],[],[],[],[],[],[],[],[],[]]\n",
    "    return output"
   ]
  },
  {
   "cell_type": "code",
   "execution_count": 8,
   "id": "03f6ff52-1ea3-427d-b0fa-ecd04cc6b00a",
   "metadata": {},
   "outputs": [],
   "source": [
    "def normalizeAngles(results, listAngles):\n",
    "    \"\"\"\n",
    "    Returns the angles of the most important joints in the body during the motion.\n",
    "    \n",
    "    Parameters:\n",
    "    listAngles\n",
    "    results : Processed Mediapipe image\n",
    "    \n",
    "    Returns:\n",
    "    output : List of angle values ordered by [right hand, left hand, right elbow, left elbow, right hip, left hip, right knee, left knee, right foot, left foot]\n",
    "    \n",
    "    \"\"\"\n",
    "    listAngles[0].append(getAngle(results, 20, 16, 14))\n",
    "    listAngles[1].append(getAngle(results, 19, 15, 13))\n",
    "    listAngles[2].append(getAngle(results, 16, 14, 12))\n",
    "    listAngles[3].append(getAngle(results, 15, 13, 11))\n",
    "    listAngles[4].append(getAngle(results, 26, 24, 12))\n",
    "    listAngles[5].append(getAngle(results, 25, 23, 11))\n",
    "    listAngles[6].append(getAngle(results, 28, 26 ,24))\n",
    "    listAngles[7].append(getAngle(results, 27, 25, 23))\n",
    "    listAngles[8].append(getAngle(results, 32, 28, 26))\n",
    "    listAngles[9].append(getAngle(results, 31, 27, 25))\n",
    "    return True"
   ]
  },
  {
   "cell_type": "code",
   "execution_count": 9,
   "id": "48a1b20e-9e5e-42ff-9dd6-1ed9c72c6519",
   "metadata": {},
   "outputs": [],
   "source": [
    "def normalizeVisibilities(results, listVisibilities):\n",
    "    \"\"\"\n",
    "    Returns the angles of the most important joints in the body during the motion.\n",
    "    \n",
    "    Parameters:\n",
    "    results : Processed Mediapipe image\n",
    "    \n",
    "    Returns:\n",
    "    output : List of angle values ordered by [right hand, left hand, right elbow, left elbow, right hip, left hip, right knee, left knee, right foot, left foot]\n",
    "    \n",
    "    \"\"\"\n",
    "    listVisibilities[0].append(getVisibility(results, 20, 16, 14))\n",
    "    listVisibilities[1].append(getVisibility(results, 19, 15, 13))\n",
    "    listVisibilities[2].append(getVisibility(results, 16, 14, 12))\n",
    "    listVisibilities[3].append(getVisibility(results, 15, 13, 11))\n",
    "    listVisibilities[4].append(getVisibility(results, 26, 24, 12))\n",
    "    listVisibilities[5].append(getVisibility(results, 25, 23, 11))\n",
    "    listVisibilities[6].append(getVisibility(results, 28, 26 ,24))\n",
    "    listVisibilities[7].append(getVisibility(results, 27, 25, 23))\n",
    "    listVisibilities[8].append(getVisibility(results, 32, 28, 26))\n",
    "    listVisibilities[9].append(getVisibility(results, 31, 27, 25))\n",
    "    return True"
   ]
  },
  {
   "cell_type": "code",
   "execution_count": 10,
   "id": "68da211b-5fa7-4ad4-ada6-154a43337e9c",
   "metadata": {},
   "outputs": [],
   "source": [
    "def listVisibilities(results, angles):\n",
    "    \"\"\"\n",
    "    Returns the angles of the most important joints in the body during the motion.\n",
    "    \n",
    "    Parameters:\n",
    "    results : Processed Mediapipe image\n",
    "    \n",
    "    Returns:\n",
    "    output : List of angle values ordered by [right hand, left hand, right elbow, left elbow, right hip, left hip, right knee, left knee, right foot, left foot]\n",
    "    \n",
    "    \"\"\"\n",
    "    rightHand = getVisibility(results, 20, 16, 14)\n",
    "    leftHand = getVisibility(results, 19, 15, 13)\n",
    "    rightElbow = getVisibility(results, 16, 14, 12)\n",
    "    leftElbow = getVisibility(results, 15, 13, 11)\n",
    "    rightHip = getVisibility(results, 26, 24, 12)\n",
    "    leftHip = getVisibility(results, 25, 23, 11)\n",
    "    rightKnee = getVisibility(results, 28, 26 ,24)\n",
    "    leftKnee = getVisibility(results, 27, 25, 23)\n",
    "    rightFoot = getVisibility(results, 32, 28, 26)\n",
    "    leftFoot = getVisibility(results, 31, 27, 25)\n",
    "    output = [rightHand, leftHand, rightElbow, leftElbow, rightHip, leftHip, rightKnee, leftKnee, rightFoot, leftFoot]\n",
    "    return output"
   ]
  },
  {
   "cell_type": "code",
   "execution_count": 11,
   "id": "506daa25-61e1-4c02-9b77-60718b0d5a9d",
   "metadata": {},
   "outputs": [],
   "source": [
    "def savgolSmoothing(angles, window, poly):\n",
    "    \"\"\"\n",
    "    Returns a list of angles that have been smoothed with Savitzky_golay Filtering\n",
    "    \n",
    "    Parameters:\n",
    "    angles : List of raw angle values\n",
    "    window : Int of how many frames to smooth by \n",
    "    poly: Polynomial of smoothing\n",
    "    \n",
    "    Returns:\n",
    "    output : List of smoothed angle values\n",
    "    \n",
    "    \"\"\"\n",
    "    output = []\n",
    "    for i in angles:\n",
    "        output.append(savgol_filter(i, window, poly))\n",
    "    return output"
   ]
  },
  {
   "cell_type": "code",
   "execution_count": 12,
   "id": "b51a203f-8f56-4cc3-acce-0139b96f7fb9",
   "metadata": {},
   "outputs": [],
   "source": [
    "def distributionDifference(distOne, distTwo):\n",
    "    diff = 0\n",
    "    for i in range(len(distOne)):\n",
    "        for j in range(len(distOne[i])):\n",
    "            diff += math.pow((distOne[i][j]-distTwo[i][j]), 2)\n",
    "    return diff"
   ]
  },
  {
   "cell_type": "code",
   "execution_count": 13,
   "id": "f026884f-a2d6-4598-b19a-4a33e9d49e89",
   "metadata": {},
   "outputs": [],
   "source": [
    "def reduceDistribution(dist, delayFrames, targetLength):\n",
    "    temp = initiateList()\n",
    "    for i in range(len(dist)):\n",
    "        temp[i] = (dist[i][delayFrames:delayFrames+targetLength])\n",
    "    return temp"
   ]
  },
  {
   "cell_type": "code",
   "execution_count": 14,
   "id": "27760e9e-10d2-470d-a212-7d3a5bcd21b4",
   "metadata": {},
   "outputs": [],
   "source": [
    "def syncCameras(distOne, distTwo):\n",
    "    \"\"\"\n",
    "    Returns the smallest difference in angles based on frames \n",
    "    Condition: Side must be small and fit into back\n",
    "    \n",
    "    Parameters:\n",
    "    framesWebcam: A list of frames from the back\n",
    "    framesPhone: A list of frames from the side\n",
    "    \n",
    "    Returns:\n",
    "    output : The time difference between the two frames\n",
    "    \n",
    "    \"\"\"\n",
    "    frameDifference = len(distOne[0]) - len(distTwo[0])\n",
    "    minDiff = math.pow(10, 10)\n",
    "    frameDiff = 0\n",
    "    start = 0\n",
    "    end = len(distTwo[0])\n",
    "    for i in range(frameDifference):\n",
    "        reducedSide = reduceDistribution(distOne, i, len(distTwo[0]))\n",
    "        difference = distributionDifference(reducedSide, sideAngles)\n",
    "        if difference < minDiff:\n",
    "            frameDiff = i\n",
    "            minDiff = difference\n",
    "            start = i\n",
    "    return frameDiff"
   ]
  },
  {
   "cell_type": "code",
   "execution_count": 15,
   "id": "ae0d4152",
   "metadata": {},
   "outputs": [],
   "source": [
    "def combineDistributions(distOne, distTwo, visibilitiesOne, visibilitiesTwo):\n",
    "    if (len(distOne[0]) != len(distTwo[0])):\n",
    "        print('Distributions different length!')\n",
    "        return False \n",
    "    if (len(visibilitiesOne[0]) != len(visibilitiesTwo[0])):\n",
    "        print('Visibiilities different length!')\n",
    "        return False \n",
    "    tempAngles = initiateList()\n",
    "    tempVisibilities = initiateList()\n",
    "    for i in range(len(distOne)):\n",
    "        for j in range(len(distOne[i])):\n",
    "            diff = distTwo[i][j] - distOne[i][j]\n",
    "            combineVisibilities = visibilitiesOne[i][j] + visibilitiesTwo[i][j]\n",
    "            tempVisibilities[i].append(combineVisibilities/2)\n",
    "            percentage = visibilitiesTwo[i][j]/combineVisibilities\n",
    "            change = diff * percentage\n",
    "            tempAngles[i].append(distOne[i][j] + change)\n",
    "    tempAngles = savgolSmoothing(tempAngles, 49, 3)\n",
    "    return tempAngles, tempVisibilities"
   ]
  },
  {
   "cell_type": "code",
   "execution_count": 16,
   "id": "f370b914",
   "metadata": {},
   "outputs": [],
   "source": [
    "def changeDistribution(dist, size):\n",
    "    x_observed = np.linspace(0.0, size, len(dist))\n",
    "    y_observed = dist\n",
    "    f = interpolate.interp1d(x_observed,y_observed)\n",
    "    x = np.linspace(0, 1000, size)\n",
    "    y = f(x).tolist()\n",
    "    return y"
   ]
  },
  {
   "cell_type": "code",
   "execution_count": 17,
   "id": "8c7215bd",
   "metadata": {},
   "outputs": [],
   "source": [
    "def analyzeData(rootdir):\n",
    "    masterAngles = []\n",
    "    masterVisibilities = []\n",
    "    for subdir, dirs, files in os.walk(rootdir):\n",
    "        for file in files:\n",
    "            path = os.path.join(subdir, file)\n",
    "            if path.endswith('.mp4'):\n",
    "                video_cap = cv2.VideoCapture(path)\n",
    "                videoAngles = initiateList()\n",
    "                videoVisibilities = initiateList()\n",
    "                video_n_frames = video_cap.get(cv2.CAP_PROP_FRAME_COUNT)\n",
    "                videoCount = 0\n",
    "                with mp_pose.Pose(static_image_mode=False,model_complexity=2,min_detection_confidence=0.0) as pose:\n",
    "                    while video_cap.isOpened():\n",
    "                        try:\n",
    "                            video_ret, video_frame = video_cap.read()\n",
    "                            video_result = pose.process(video_frame)\n",
    "                            normalizeAngles(video_result, videoAngles)\n",
    "                            normalizeVisibilities(video_result, videoVisibilities)\n",
    "                            previous_video_result = video_result\n",
    "                        except:\n",
    "                            normalizeAngles(previous_video_result, videoAngles)\n",
    "                            normalizeVisibilities(previous_video_result, videoVisibilities)\n",
    "                            pass\n",
    "                        videoCount += 1\n",
    "                        if (videoCount >= video_n_frames):\n",
    "                            break\n",
    "                masterAngles.append(videoAngles)\n",
    "                masterVisibilities.append(videoVisibilities)\n",
    "    return masterAngles, masterVisibilities\n",
    "\n",
    "                "
   ]
  },
  {
   "cell_type": "code",
   "execution_count": 18,
   "id": "b96492f6",
   "metadata": {},
   "outputs": [],
   "source": [
    "def combineData(masterAngles, masterVisibilities):\n",
    "    standardized = []\n",
    "    count = 0\n",
    "    standardizedAngles = []\n",
    "    standardizedVisibilities = []\n",
    "    for i in range(len(masterAngles)):\n",
    "        tempAngles = []\n",
    "        tempVisibilities = []\n",
    "        for j in range(len(masterAngles[i])):\n",
    "            tempAngles.append(changeDistribution(masterAngles[i][j], 1000))\n",
    "            tempVisibilities.append(changeDistribution(masterVisibilities[i][j], 1000))\n",
    "        standardizedAngles.append(tempAngles)\n",
    "        standardizedVisibilities.append(tempVisibilities)\n",
    "    combinedOneAngles, combinedOneVisibilities = combineDistributions(standardizedAngles[0], standardizedAngles[1], standardizedVisibilities[0], standardizedVisibilities[1])\n",
    "    combinedTwoAngles, combinedTwoVisibilities = combineDistributions(standardizedAngles[2], standardizedAngles[3], standardizedVisibilities[2], standardizedVisibilities[3])\n",
    "    combinedThreeAngles, combinedThreeVisibilities = combineDistributions(standardizedAngles[4], standardizedAngles[5], standardizedVisibilities[4], standardizedVisibilities[5])\n",
    "    combinedFourAngles, combinedFourVisibilities = combineDistributions(standardizedAngles[6], standardizedAngles[7], standardizedVisibilities[6], standardizedVisibilities[7])\n",
    "    combinedOneAngles, combinedOneVisibilities = combineDistributions(combinedOneAngles, combinedTwoAngles, combinedOneVisibilities, combinedTwoVisibilities)\n",
    "    combinedTwoAngles, combinedTwoVisibilities = combineDistributions(combinedThreeAngles, combinedFourAngles, combinedThreeVisibilities, combinedFourVisibilities)\n",
    "    dataAngles, dataVisibilities = combineDistributions(combinedOneAngles, combinedTwoAngles, combinedOneVisibilities, combinedTwoVisibilities)\n",
    "    dataAngles = savgolSmoothing(dataAngles, 49, 3)\n",
    "    dataVisibilities = savgolSmoothing(dataVisibilities, 49, 3)\n",
    "    return dataAngles, dataVisibilities\n",
    "            "
   ]
  },
  {
   "cell_type": "code",
   "execution_count": 19,
   "id": "1a699e2f",
   "metadata": {},
   "outputs": [
    {
     "ename": "SyntaxError",
     "evalue": "unexpected EOF while parsing (<ipython-input-19-a76681e7b53a>, line 2)",
     "output_type": "error",
     "traceback": [
      "\u001b[0;36m  File \u001b[0;32m\"<ipython-input-19-a76681e7b53a>\"\u001b[0;36m, line \u001b[0;32m2\u001b[0m\n\u001b[0;31m    \u001b[0m\n\u001b[0m    ^\u001b[0m\n\u001b[0;31mSyntaxError\u001b[0m\u001b[0;31m:\u001b[0m unexpected EOF while parsing\n"
     ]
    }
   ],
   "source": [
    "def matchFinal(distOne, distTwo):\n",
    "    "
   ]
  },
  {
   "cell_type": "markdown",
   "id": "e1a6f04b-6579-4aba-95d4-8c9dc5063edf",
   "metadata": {},
   "source": [
    "### Analyzing Videos"
   ]
  },
  {
   "cell_type": "code",
   "execution_count": 15,
   "id": "84cb3532-f4b3-42f4-a410-901813ede0d6",
   "metadata": {},
   "outputs": [
    {
     "data": {
      "text/plain": [
       "119.83866243679005"
      ]
     },
     "execution_count": 15,
     "metadata": {},
     "output_type": "execute_result"
    }
   ],
   "source": [
    "# Video Characteristics\n",
    "video_path = '/Users/jasonwang/Academics/Data Science/Personal Projects/myTennis/'\n",
    "back = 'back.mp4'\n",
    "side = 'side.mp4'\n",
    "side_cap = cv2.VideoCapture(video_path + side)\n",
    "back_cap = cv2.VideoCapture(video_path + back)\n",
    "#video_n_frames = video_cap.get(cv2.CAP_PROP_FRAME_COUNT)\n",
    "side_cap.get(cv2.CAP_PROP_FPS)\n",
    "#video_width = int(video_cap.get(cv2.CAP_PROP_FRAME_WIDTH))\n",
    "#video_height = int(video_cap.get(cv2.CAP_PROP_FRAME_HEIGHT))"
   ]
  },
  {
   "cell_type": "code",
   "execution_count": 19,
   "id": "c746898a-f925-4368-91a1-cf2a591ad768",
   "metadata": {},
   "outputs": [],
   "source": [
    "video_path = '/Users/jasonwang/Academics/Data Science/Personal Projects/myTennis/'\n",
    "back = 'back.mp4'\n",
    "side = 'side.mp4'\n",
    "side_cap = cv2.VideoCapture(video_path + side)\n",
    "back_cap = cv2.VideoCapture(video_path + back)\n",
    "back_n_frames = back_cap.get(cv2.CAP_PROP_FRAME_COUNT)\n",
    "side_n_frames = side_cap.get(cv2.CAP_PROP_FRAME_COUNT)\n",
    "backAngles = initiateList()\n",
    "sideAngles = initiateList()\n",
    "backVisibilities = initiateList()\n",
    "sideVisibilities = initiateList()\n",
    "backCount = 0\n",
    "sideCount = 0\n",
    "with mp_pose.Pose(static_image_mode=False,model_complexity=2,min_detection_confidence=0.0) as pose:\n",
    "    while back_cap.isOpened() or side_cap.isOpened():\n",
    "        try:\n",
    "            back_ret, back_frame = back_cap.read()\n",
    "            back_result = pose.process(back_frame)\n",
    "            normalizeAngles(back_result, backAngles)\n",
    "            normalizeVisibilities(back_result, backVisibilities)\n",
    "            previous_back_result = back_result\n",
    "        except:\n",
    "            normalizeAngles(previous_back_result, backAngles)\n",
    "            normalizeVisibilities(previous_back_result, backVisibilities)\n",
    "            pass\n",
    "        backCount += 1\n",
    "        if (backCount >= back_n_frames):\n",
    "            break\n",
    "with mp_pose.Pose(static_image_mode=False,model_complexity=2,min_detection_confidence=0.0) as pose:\n",
    "    while back_cap.isOpened() or side_cap.isOpened():\n",
    "        try:\n",
    "            side_ret, side_frame = side_cap.read()\n",
    "            side_result = pose.process(side_frame)\n",
    "            normalizeAngles(side_result, sideAngles)\n",
    "            normalizeVisibilities(side_result, sideVisibilities)\n",
    "            previous_side_result = side_result\n",
    "        except:\n",
    "            normalizeAngles(previous_side_result, sideAngles)\n",
    "            normalizeVisibilities(previous_side_result, sideVisibilities)\n",
    "            pass\n",
    "        sideCount += 1\n",
    "        if sideCount >= side_n_frames:\n",
    "            break\n",
    "back_cap.release()\n",
    "side_cap.release()\n",
    "cv2.destroyAllWindows()"
   ]
  },
  {
   "cell_type": "code",
   "execution_count": 20,
   "id": "2ff1c0ed",
   "metadata": {},
   "outputs": [
    {
     "name": "stdout",
     "output_type": "stream",
     "text": [
      "982\n",
      "982.0\n",
      "566.0\n",
      "566\n"
     ]
    }
   ],
   "source": [
    "print(len(backAngles[0]))\n",
    "print(back_n_frames)\n",
    "print(side_n_frames)\n",
    "print(len(sideAngles[0]))"
   ]
  },
  {
   "cell_type": "code",
   "execution_count": 31,
   "id": "5ca7ab3b",
   "metadata": {},
   "outputs": [],
   "source": [
    "smoothedBack = savgolSmoothing(backAngles, 49, 3)\n",
    "smoothedSide = savgolSmoothing(sideAngles, 49, 3)\n",
    "video_path = '/Users/jasonwang/Academics/Data Science/Personal Projects/myTennis/'\n",
    "back = 'back.mp4'\n",
    "side = 'side.mp4'\n",
    "side_cap = cv2.VideoCapture(video_path + side)\n",
    "back_cap = cv2.VideoCapture(video_path + back)\n",
    "back_n_frames = back_cap.get(cv2.CAP_PROP_FRAME_COUNT)\n",
    "side_n_frames = side_cap.get(cv2.CAP_PROP_FRAME_COUNT)\n",
    "delay = syncCameras(smoothedBack, smoothedSide)\n",
    "count = 0\n",
    "while count < delay:\n",
    "    back_ret, back_frame = back_cap.read()\n",
    "    count += 1\n",
    "while back_cap.isOpened() or side_cap.isOpened():\n",
    "    back_ret, back_frame = back_cap.read()\n",
    "    side_ret, side_frame = side_cap.read()\n",
    "    if not back_ret and not side_ret:\n",
    "        print(\"Can't receive frame (stream end?). Exiting ...\")\n",
    "        continue\n",
    "    key = cv2.waitKey(1)\n",
    "    if key == ord('q'):\n",
    "        break\n",
    "    if key == ord('p'):\n",
    "        cv2.waitKey(-1) \n",
    "    try:\n",
    "        combined = np.concatenate((back_frame, side_frame), axis=1)\n",
    "        cv2.imshow('frame', combined)\n",
    "    except:\n",
    "        break\n",
    "back_cap.release()\n",
    "side_cap.release()\n",
    "cv2.destroyAllWindows()"
   ]
  },
  {
   "cell_type": "code",
   "execution_count": 21,
   "id": "a92a766c-73d4-4448-be0c-dd912bbab8d3",
   "metadata": {},
   "outputs": [],
   "source": [
    "reducedBackAngles = reduceDistribution(smoothedBack, delay, len(sideAngles[0]))\n",
    "reducedBackVisibilities = reduceDistribution(backVisibilities, delay, len(sideVisibilities[0]))"
   ]
  },
  {
   "cell_type": "code",
   "execution_count": 22,
   "id": "3244b3a7-de61-4648-a923-905cbde5279d",
   "metadata": {},
   "outputs": [],
   "source": [
    "combinedAngles, combinedVisibilities = combineDistributions(reducedBackAngles, smoothedSide, reducedBackVisibilities, sideVisibilities)"
   ]
  },
  {
   "cell_type": "code",
   "execution_count": 23,
   "id": "c8f18699",
   "metadata": {},
   "outputs": [],
   "source": [
    "path = \"/Users/jasonwang/Academics/Data Science/Personal Projects/Data/\"\n",
    "Angles, Visibilities = analyzeData(path)"
   ]
  },
  {
   "cell_type": "code",
   "execution_count": 24,
   "id": "8bfdafa0",
   "metadata": {},
   "outputs": [],
   "source": [
    "federerAngles, federerVisibilities = combineData(Angles, Visibilities)"
   ]
  },
  {
   "cell_type": "code",
   "execution_count": 34,
   "id": "585c49cd",
   "metadata": {},
   "outputs": [
    {
     "data": {
      "image/png": "[encoded data removed]",
      "text/plain": [
       "<Figure size 432x288 with 1 Axes>"
      ]
     },
     "metadata": {
      "needs_background": "light"
     },
     "output_type": "display_data"
    }
   ],
   "source": [
    "\n",
    "plt.plot(federerAngles[1])\n",
    "plt.show()"
   ]
  },
  {
   "cell_type": "code",
   "execution_count": 35,
   "id": "eee366df",
   "metadata": {},
   "outputs": [
    {
     "data": {
      "text/plain": [
       "[<matplotlib.lines.Line2D at 0x7fbcb1ec6dc0>]"
      ]
     },
     "execution_count": 35,
     "metadata": {},
     "output_type": "execute_result"
    },
    {
     "data": {
      "image/png": "[encoded data removed]",
      "text/plain": [
       "<Figure size 432x288 with 1 Axes>"
      ]
     },
     "metadata": {
      "needs_background": "light"
     },
     "output_type": "display_data"
    }
   ],
   "source": [
    "plt.plot(combinedAngles[1])"
   ]
  },
  {
   "cell_type": "code",
   "execution_count": 39,
   "id": "78b0b307",
   "metadata": {},
   "outputs": [],
   "source": [
    "expandedAngles = []\n",
    "for i in range(len(combinedAngles)):\n",
    "    temp = changeDistribution(combinedAngles[i], 2000)\n",
    "    expandedAngles.append(temp)"
   ]
  },
  {
   "cell_type": "code",
   "execution_count": 41,
   "id": "368db301",
   "metadata": {},
   "outputs": [
    {
     "name": "stdout",
     "output_type": "stream",
     "text": [
      "0\n"
     ]
    }
   ],
   "source": [
    "print(syncCameras(combinedAngles, federerAngles))"
   ]
  }
 ],
 "metadata": {
  "kernelspec": {
   "display_name": "Python 3",
   "language": "python",
   "name": "python3"
  },
  "language_info": {
   "codemirror_mode": {
    "name": "ipython",
    "version": 3
   },
   "file_extension": ".py",
   "mimetype": "text/x-python",
   "name": "python",
   "nbconvert_exporter": "python",
   "pygments_lexer": "ipython3",
   "version": "3.8.8"
  }
 },
 "nbformat": 4,
 "nbformat_minor": 5
}
